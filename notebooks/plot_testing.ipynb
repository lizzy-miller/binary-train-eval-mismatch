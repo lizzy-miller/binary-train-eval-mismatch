{
 "cells": [
  {
   "cell_type": "code",
   "execution_count": 2,
   "id": "39a6ac76-347e-496b-a623-209d489be60d",
   "metadata": {
    "tags": []
   },
   "outputs": [],
   "source": [
    "import os\n",
    "import sys\n",
    "import random\n",
    "import numpy as np\n",
    "import pandas as pd\n",
    "import matplotlib.pyplot as plt\n",
    "import matplotlib.colors as mcolors\n",
    "#import matplotlib.animation as animation\n",
    "from mpl_toolkits.mplot3d import Axes3D\n",
    "from matplotlib import cm\n",
    "from scipy.spatial.distance import hamming\n",
    "import torch\n",
    "import torch.nn as nn\n",
    "import torch.optim as optim\n"
   ]
  },
  {
   "cell_type": "code",
   "execution_count": 8,
   "id": "2c9ef4ce-dc27-4288-a07f-689e4ff722ea",
   "metadata": {
    "tags": []
   },
   "outputs": [
    {
     "data": {
      "text/plain": [
       "['alphas', 'betas', 'losses']"
      ]
     },
     "execution_count": 8,
     "metadata": {},
     "output_type": "execute_result"
    }
   ],
   "source": [
    "data = np.load(\"/sfs/gpfs/tardis/home/zrc3hc/binary-classification-mismatch/results/simple_nn/simple_nn_model_loss_landscape.npz\")\n",
    "data.files\n"
   ]
  },
  {
   "cell_type": "code",
   "execution_count": 11,
   "id": "3fb3d8f3-707a-4a1d-8f0b-55e0ee892f5d",
   "metadata": {
    "tags": []
   },
   "outputs": [
    {
     "data": {
      "text/html": [
       "<div>\n",
       "<style scoped>\n",
       "    .dataframe tbody tr th:only-of-type {\n",
       "        vertical-align: middle;\n",
       "    }\n",
       "\n",
       "    .dataframe tbody tr th {\n",
       "        vertical-align: top;\n",
       "    }\n",
       "\n",
       "    .dataframe thead th {\n",
       "        text-align: right;\n",
       "    }\n",
       "</style>\n",
       "<table border=\"1\" class=\"dataframe\">\n",
       "  <thead>\n",
       "    <tr style=\"text-align: right;\">\n",
       "      <th></th>\n",
       "      <th>alpha</th>\n",
       "      <th>beta</th>\n",
       "      <th>loss</th>\n",
       "    </tr>\n",
       "  </thead>\n",
       "  <tbody>\n",
       "    <tr>\n",
       "      <th>0</th>\n",
       "      <td>-4.0</td>\n",
       "      <td>-4.000000</td>\n",
       "      <td>0.360731</td>\n",
       "    </tr>\n",
       "    <tr>\n",
       "      <th>1</th>\n",
       "      <td>-4.0</td>\n",
       "      <td>-3.983968</td>\n",
       "      <td>0.359402</td>\n",
       "    </tr>\n",
       "    <tr>\n",
       "      <th>2</th>\n",
       "      <td>-4.0</td>\n",
       "      <td>-3.967936</td>\n",
       "      <td>0.358101</td>\n",
       "    </tr>\n",
       "    <tr>\n",
       "      <th>3</th>\n",
       "      <td>-4.0</td>\n",
       "      <td>-3.951904</td>\n",
       "      <td>0.356829</td>\n",
       "    </tr>\n",
       "    <tr>\n",
       "      <th>4</th>\n",
       "      <td>-4.0</td>\n",
       "      <td>-3.935872</td>\n",
       "      <td>0.355583</td>\n",
       "    </tr>\n",
       "    <tr>\n",
       "      <th>...</th>\n",
       "      <td>...</td>\n",
       "      <td>...</td>\n",
       "      <td>...</td>\n",
       "    </tr>\n",
       "    <tr>\n",
       "      <th>95</th>\n",
       "      <td>-4.0</td>\n",
       "      <td>-2.476954</td>\n",
       "      <td>0.339351</td>\n",
       "    </tr>\n",
       "    <tr>\n",
       "      <th>96</th>\n",
       "      <td>-4.0</td>\n",
       "      <td>-2.460922</td>\n",
       "      <td>0.340097</td>\n",
       "    </tr>\n",
       "    <tr>\n",
       "      <th>97</th>\n",
       "      <td>-4.0</td>\n",
       "      <td>-2.444890</td>\n",
       "      <td>0.340865</td>\n",
       "    </tr>\n",
       "    <tr>\n",
       "      <th>98</th>\n",
       "      <td>-4.0</td>\n",
       "      <td>-2.428858</td>\n",
       "      <td>0.341649</td>\n",
       "    </tr>\n",
       "    <tr>\n",
       "      <th>99</th>\n",
       "      <td>-4.0</td>\n",
       "      <td>-2.412826</td>\n",
       "      <td>0.342449</td>\n",
       "    </tr>\n",
       "  </tbody>\n",
       "</table>\n",
       "<p>100 rows × 3 columns</p>\n",
       "</div>"
      ],
      "text/plain": [
       "    alpha      beta      loss\n",
       "0    -4.0 -4.000000  0.360731\n",
       "1    -4.0 -3.983968  0.359402\n",
       "2    -4.0 -3.967936  0.358101\n",
       "3    -4.0 -3.951904  0.356829\n",
       "4    -4.0 -3.935872  0.355583\n",
       "..    ...       ...       ...\n",
       "95   -4.0 -2.476954  0.339351\n",
       "96   -4.0 -2.460922  0.340097\n",
       "97   -4.0 -2.444890  0.340865\n",
       "98   -4.0 -2.428858  0.341649\n",
       "99   -4.0 -2.412826  0.342449\n",
       "\n",
       "[100 rows x 3 columns]"
      ]
     },
     "execution_count": 11,
     "metadata": {},
     "output_type": "execute_result"
    }
   ],
   "source": [
    "alphas = data['alphas']\n",
    "betas = data['betas']\n",
    "losses = data['losses']\n",
    "\n",
    "# Create a meshgrid for alpha and beta combinations\n",
    "Alpha, Beta = np.meshgrid(alphas, betas, indexing='ij')  # Make sure shapes match\n",
    "\n",
    "# Flatten all arrays to 1D\n",
    "Alpha_flat = Alpha.flatten()\n",
    "Beta_flat = Beta.flatten()\n",
    "Loss_flat = losses.flatten()\n",
    "\n",
    "# Create a DataFrame\n",
    "df = pd.DataFrame({\n",
    "    'alpha': Alpha_flat,\n",
    "    'beta': Beta_flat,\n",
    "    'loss': Loss_flat\n",
    "})\n",
    "\n",
    "df.head(100)"
   ]
  },
  {
   "cell_type": "code",
   "execution_count": null,
   "id": "dc613627-392d-42c6-a248-9977f5e95a44",
   "metadata": {
    "tags": []
   },
   "outputs": [],
   "source": []
  },
  {
   "cell_type": "code",
   "execution_count": null,
   "id": "15b2f62d-2a75-4f42-b919-cefe0343de9f",
   "metadata": {},
   "outputs": [],
   "source": []
  }
 ],
 "metadata": {
  "kernelspec": {
   "display_name": "Python 3 (ipykernel)",
   "language": "python",
   "name": "python3"
  },
  "language_info": {
   "codemirror_mode": {
    "name": "ipython",
    "version": 3
   },
   "file_extension": ".py",
   "mimetype": "text/x-python",
   "name": "python",
   "nbconvert_exporter": "python",
   "pygments_lexer": "ipython3",
   "version": "3.11.4"
  }
 },
 "nbformat": 4,
 "nbformat_minor": 5
}
